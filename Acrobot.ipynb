{
  "nbformat": 4,
  "nbformat_minor": 0,
  "metadata": {
    "colab": {
      "name": "REINFORCE with PyTorch.ipynb",
      "provenance": [],
      "collapsed_sections": []
    },
    "kernelspec": {
      "name": "python3",
      "display_name": "Python 3"
    },
    "language_info": {
      "name": "python"
    }
  },
  "cells": [
    {
      "cell_type": "code",
      "execution_count": 1,
      "metadata": {
        "colab": {
          "base_uri": "https://localhost:8080/"
        },
        "id": "SiBfxKx7Hfd-",
        "outputId": "cd6b3764-6ee2-4525-8e30-6195cb84abc6"
      },
      "outputs": [
        {
          "output_type": "stream",
          "name": "stdout",
          "text": [
            "PyTorch:\t1.10.0+cu111\n"
          ]
        }
      ],
      "source": [
        "import numpy as np\n",
        "import matplotlib.pyplot as plt\n",
        "import gym\n",
        "import sys\n",
        "import torch\n",
        "from torch import nn\n",
        "from torch import optim\n",
        "print(\"PyTorch:\\t{}\".format(torch.__version__))"
      ]
    },
    {
      "cell_type": "code",
      "source": [
        "class policy_estimator():\n",
        "    def __init__(self, env):\n",
        "        self.n_inputs = env.observation_space.shape[0]\n",
        "        self.n_outputs = env.action_space.n\n",
        "        \n",
        "        # Define network\n",
        "        self.network = nn.Sequential(\n",
        "            nn.Linear(self.n_inputs, 16), \n",
        "            nn.ReLU(), \n",
        "            nn.Linear(16, self.n_outputs),\n",
        "            nn.Softmax(dim=-1))\n",
        "    \n",
        "    def predict(self, state):\n",
        "        action_probs = self.network(torch.FloatTensor(state))\n",
        "        return action_probs"
      ],
      "metadata": {
        "id": "Wo4cEi6JHu_i"
      },
      "execution_count": 2,
      "outputs": []
    },
    {
      "cell_type": "code",
      "source": [
        "def discount_rewards(rewards, gamma=0.99):\n",
        "    r = np.array([gamma**i * rewards[i] \n",
        "        for i in range(len(rewards))])\n",
        "    # Reverse the array direction for cumsum and then\n",
        "    # revert back to the original order\n",
        "    r = r[::-1].cumsum()[::-1]\n",
        "    return r-r.mean()"
      ],
      "metadata": {
        "id": "7miXeAq6Hx9Q"
      },
      "execution_count": 3,
      "outputs": []
    },
    {
      "cell_type": "code",
      "source": [
        "def reinforce(env, policy_estimator, num_episodes=3000,\n",
        "              batch_size=10, gamma=0.99):\n",
        "\n",
        "    # Set up lists to hold results\n",
        "    total_rewards = []\n",
        "    batch_rewards = []\n",
        "    batch_actions = []\n",
        "    batch_states = []\n",
        "    batch_counter = 1\n",
        "    \n",
        "    # Define optimizer\n",
        "    optimizer = optim.Adam(policy_estimator.network.parameters(), \n",
        "                           lr=0.01)\n",
        "    \n",
        "    action_space = np.arange(env.action_space.n)\n",
        "    for ep in range(num_episodes):\n",
        "        s_0 = env.reset()\n",
        "        states = []\n",
        "        rewards = []\n",
        "        actions = []\n",
        "        complete = False\n",
        "        while complete == False:\n",
        "            # Get actions and convert to numpy array\n",
        "            action_probs = policy_estimator.predict(s_0).detach().numpy()\n",
        "            action = np.random.choice(action_space, p=action_probs)\n",
        "            s_1, r, complete, _ = env.step(action)\n",
        "                        \n",
        "            states.append(s_0)\n",
        "            rewards.append(r)\n",
        "            actions.append(action)\n",
        "            s_0 = s_1\n",
        "            \n",
        "            # If complete, batch data\n",
        "            if complete:\n",
        "                batch_rewards.extend(discount_rewards(rewards, gamma))\n",
        "                batch_states.extend(states)\n",
        "                batch_actions.extend(actions)\n",
        "                batch_counter += 1\n",
        "                total_rewards.append(sum(rewards))\n",
        "                \n",
        "                # If batch is complete, update network\n",
        "                if batch_counter == batch_size:\n",
        "                    optimizer.zero_grad()\n",
        "                    state_tensor = torch.FloatTensor(batch_states)\n",
        "                    reward_tensor = torch.FloatTensor(batch_rewards)\n",
        "                    # Actions are used as indices, must be LongTensor\n",
        "                    action_tensor = torch.LongTensor(batch_actions)\n",
        "                    \n",
        "                    # Calculate loss\n",
        "                    logprob = torch.log(\n",
        "                        policy_estimator.predict(state_tensor))\n",
        "                    selected_logprobs = reward_tensor * \\\n",
        "                        logprob[np.arange(len(action_tensor)), action_tensor]\n",
        "                    loss = -selected_logprobs.mean()\n",
        "                    \n",
        "                    # Calculate gradients\n",
        "                    loss.backward()\n",
        "                    # Apply gradients\n",
        "                    optimizer.step()\n",
        "                    \n",
        "                    batch_rewards = []\n",
        "                    batch_actions = []\n",
        "                    batch_states = []\n",
        "                    batch_counter = 1\n",
        "                    \n",
        "                # Print running average\n",
        "                print(\"\\rEp: {} Average of last 10: {:.2f}\".format(\n",
        "                    ep + 1, np.mean(total_rewards[-10:])), end=\"\")\n",
        "                \n",
        "    return total_rewards"
      ],
      "metadata": {
        "id": "SX18vwd6H07d"
      },
      "execution_count": 4,
      "outputs": []
    },
    {
      "cell_type": "code",
      "source": [
        "env = gym.make('Acrobot-v1')\n",
        "policy_est = policy_estimator(env)\n",
        "rewards = reinforce(env, policy_est)"
      ],
      "metadata": {
        "colab": {
          "base_uri": "https://localhost:8080/"
        },
        "id": "fdX6hTquH9L3",
        "outputId": "8486be2d-7579-4272-c8d6-e98ede16a6a3"
      },
      "execution_count": 5,
      "outputs": [
        {
          "output_type": "stream",
          "name": "stdout",
          "text": [
            "Ep: 8 Average of last 10: -500.00"
          ]
        },
        {
          "output_type": "stream",
          "name": "stderr",
          "text": [
            "/usr/local/lib/python3.7/dist-packages/ipykernel_launcher.py:44: UserWarning: Creating a tensor from a list of numpy.ndarrays is extremely slow. Please consider converting the list to a single numpy.ndarray with numpy.array() before converting to a tensor. (Triggered internally at  ../torch/csrc/utils/tensor_new.cpp:201.)\n"
          ]
        },
        {
          "output_type": "stream",
          "name": "stdout",
          "text": [
            "Ep: 3000 Average of last 10: -99.40"
          ]
        }
      ]
    },
    {
      "cell_type": "code",
      "source": [
        "# Configuration the image rendering in colab\n",
        "\n",
        "# Taken from \n",
        "# https://towardsdatascience.com/rendering-openai-gym-envs-on-binder-and-google-colab-536f99391cc7\n",
        "\n",
        "!apt-get install -y xvfb x11-utils &> /dev/null\n",
        "\n",
        "!pip install pyvirtualdisplay==0.2.* \\\n",
        "             PyOpenGL==3.1.* \\\n",
        "             PyOpenGL-accelerate==3.1.* &> /dev/null\n",
        "\n",
        "!pip install gym[box2d]==0.17.* &> /dev/null\n",
        "\n",
        "# Taken from https://github.com/actions/virtual-environments/issues/214\n",
        "!sudo apt-get update  &> /dev/null \n",
        "!sudo apt-get install xvfb --fix-missing &> /dev/null\n",
        "\n",
        "import pyvirtualdisplay\n",
        "\n",
        "_display = pyvirtualdisplay.Display(visible=False, size=(1400, 900))\n",
        "_ = _display.start()\n",
        "\n",
        "!echo $DISPLAY # sanity checking: should be set to some value (e.g. 1005)\n",
        "\n",
        "from IPython import display"
      ],
      "metadata": {
        "colab": {
          "base_uri": "https://localhost:8080/"
        },
        "id": "o-HdVakPMtIq",
        "outputId": "655cf45a-b1f2-49a0-e35d-7ab6f1bece82"
      },
      "execution_count": 6,
      "outputs": [
        {
          "output_type": "stream",
          "name": "stdout",
          "text": [
            ":1009\n"
          ]
        }
      ]
    },
    {
      "cell_type": "code",
      "source": [
        "def watch_agent():\n",
        "  env = gym.make('Acrobot-v1')\n",
        "  state = env.reset()\n",
        "  rewards1 = []\n",
        "  img = plt.imshow(env.render(mode='rgb_array'))\n",
        "  action_space = np.arange(env.action_space.n)\n",
        "  for t in range(10000):\n",
        "    pred = policy_est.predict(state).detach().numpy()\n",
        "    action = np.random.choice(action_space, p=pred)\n",
        "\n",
        "    img.set_data(env.render(mode='rgb_array')) \n",
        "    plt.axis('off')\n",
        "    display.display(plt.gcf())\n",
        "    display.clear_output(wait=True)\n",
        "\n",
        "    state, reward, done, _ = env.step(action)\n",
        "    rewards1.append(reward)\n",
        "    if done:\n",
        "        print(\"Reward:\", sum([r for r in rewards]))\n",
        "        break \n",
        "  env.close()\n",
        "\n",
        "watch_agent()"
      ],
      "metadata": {
        "colab": {
          "base_uri": "https://localhost:8080/",
          "height": 266
        },
        "id": "CCJKNufuMxjR",
        "outputId": "98c28d55-b55d-429e-ac57-9917eb7387f4"
      },
      "execution_count": 7,
      "outputs": [
        {
          "output_type": "stream",
          "name": "stdout",
          "text": [
            "Reward: -579964.0\n"
          ]
        },
        {
          "output_type": "display_data",
          "data": {
            "image/png": "[encoded data removed]",
            "text/plain": [
              "<Figure size 432x288 with 1 Axes>"
            ]
          },
          "metadata": {
            "needs_background": "light"
          }
        }
      ]
    },
    {
      "cell_type": "code",
      "source": [
        "plt.figure(figsize=(12,8))\n",
        "plt.plot(rewards, label='Rewards')\n",
        "plt.legend()\n",
        "plt.xlabel('Episode')\n",
        "plt.ylabel('Average Reward')\n",
        "plt.show()"
      ],
      "metadata": {
        "colab": {
          "base_uri": "https://localhost:8080/",
          "height": 497
        },
        "id": "aCdCJNx_N2m4",
        "outputId": "1fd33715-0b13-48d4-aec1-fcbceb26bd79"
      },
      "execution_count": 8,
      "outputs": [
        {
          "output_type": "display_data",
          "data": {
            "image/png": "[encoded data removed]",
            "text/plain": [
              "<Figure size 864x576 with 1 Axes>"
            ]
          },
          "metadata": {
            "needs_background": "light"
          }
        }
      ]
    }
  ]
}